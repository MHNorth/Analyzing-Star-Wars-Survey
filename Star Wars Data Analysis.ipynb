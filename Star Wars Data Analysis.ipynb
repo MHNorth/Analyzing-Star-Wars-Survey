{
 "cells": [
  {
   "cell_type": "markdown",
   "metadata": {},
   "source": [
    "<div>\n",
    "    <b>Description:</b> Star Wars Data Analysis<br>\n",
    "    <b>Author:</b> Maika Carmelle Henry Northrop\n",
    "</div>\n",
    "<br>"
   ]
  },
  {
   "cell_type": "code",
   "execution_count": 1,
   "metadata": {},
   "outputs": [],
   "source": [
    "#import modules\n",
    "import csv\n",
    "from csv import reader\n",
    "import pandas as pd\n",
    "import pprint"
   ]
  },
  {
   "cell_type": "markdown",
   "metadata": {},
   "source": [
    "# Star Wars Data Analysis"
   ]
  },
  {
   "cell_type": "markdown",
   "metadata": {},
   "source": [
    "The objective of this project is to clean and explore the FiveThirtyEight Star Wars fans survey found [here](https://github.com/fivethirtyeight/data/blob/master/star-wars-survey/StarWars.csv) and answer a few questions.  One question in particular is: Does the rest of America realize that \"The Empire Strikes Back\" is clearly the best of the bunch?  This question was the d from the team at FiveThirtyEight.  They surveyed the Star Wars fans and was able to obtain 835 total responses."
   ]
  },
  {
   "cell_type": "markdown",
   "metadata": {},
   "source": [
    "## Collecting the Data"
   ]
  },
  {
   "cell_type": "markdown",
   "metadata": {},
   "source": [
    "Because the data set has some characters that are not in Python's default UTF-8 encoding, we will need to specify an encoding.   In the meantime let's define the columns and descriptions:\n",
    "* RespondentID - An anonymized ID for the respondent (person taking the survey)\n",
    "* Gender - The respondent's gender\n",
    "* Age - The respondent's age\n",
    "* Household Income - The respondent's income\n",
    "* Education - The respondent's education level\n",
    "* Location (Census Region) - The respondent's location\n",
    "* Have you seen any of the 6 files in the Star Wars franchise? - Has Yes or No response\n",
    "* Do you consider yourself to be a fan of the Star Wars Film franchise? - Has a Yes or No response\n",
    "\n",
    "There are several columns in which answers to questions require checking one or more boxes.  This type of data is difficult to represent in columnar format.  As a result, this data set needs a lot of cleaning.  "
   ]
  },
  {
   "cell_type": "code",
   "execution_count": null,
   "metadata": {},
   "outputs": [],
   "source": []
  }
 ],
 "metadata": {
  "kernelspec": {
   "display_name": "Python 3",
   "language": "python",
   "name": "python3"
  },
  "language_info": {
   "codemirror_mode": {
    "name": "ipython",
    "version": 3
   },
   "file_extension": ".py",
   "mimetype": "text/x-python",
   "name": "python",
   "nbconvert_exporter": "python",
   "pygments_lexer": "ipython3",
   "version": "3.5.5"
  },
  "widgets": {
   "state": {},
   "version": "1.1.2"
  }
 },
 "nbformat": 4,
 "nbformat_minor": 2
}
